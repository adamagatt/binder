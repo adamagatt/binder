{
 "cells": [
  {
   "cell_type": "code",
   "execution_count": 1,
   "id": "sought-proportion",
   "metadata": {},
   "outputs": [],
   "source": [
    "#include <vector>\n",
    "#include <algorithm>"
   ]
  },
  {
   "cell_type": "code",
   "execution_count": 2,
   "id": "seasonal-terrorism",
   "metadata": {},
   "outputs": [],
   "source": [
    "std::vector<int> l1{1, 3, 4, 7, 13};\n",
    "std::vector<int> l2{1, 2, 4, 13, 15};"
   ]
  },
  {
   "cell_type": "code",
   "execution_count": 3,
   "id": "hungarian-partnership",
   "metadata": {},
   "outputs": [
    {
     "data": {
      "text/plain": [
       "{ {1 , 1}, {1 , 2}, {2 , 2}, {3 , 1}, {4 , 1}, {4 , 2}, {7 , 1}, {13 , 1}, {13 , 2}, {15 , 2} }"
      ]
     },
     "execution_count": 3,
     "metadata": {},
     "output_type": "execute_result"
    }
   ],
   "source": [
    "std::vector<std::pair<int, int>> combined;\n",
    "std::transform(l1.begin(), l1.end(), std::back_inserter(combined), [](auto e){return std::make_pair(e, 1);});\n",
    "std::transform(l2.begin(), l2.end(), std::back_inserter(combined), [](auto e){return std::make_pair(e, 2);});\n",
    "std::sort(combined.begin(), combined.end());\n",
    "combined"
   ]
  },
  {
   "cell_type": "code",
   "execution_count": 4,
   "id": "turkish-ground",
   "metadata": {},
   "outputs": [
    {
     "data": {
      "text/plain": [
       "{ {1 , 2}, {4 , 2}, {13 , 2} }"
      ]
     },
     "execution_count": 4,
     "metadata": {},
     "output_type": "execute_result"
    }
   ],
   "source": [
    "std::vector<std::pair<int, int>> matched;\n",
    "\n",
    "std::transform(std::next(combined.begin()), combined.end(), combined.begin(), std::back_inserter(matched),\n",
    "    [](std::pair<int, int>& e1, std::pair<int, int>& e2){\n",
    "        return e1.first==e2.first\n",
    "            ? e1\n",
    "            : std::make_pair(-1, -1);\n",
    "    }\n",
    ");\n",
    "matched.erase(\n",
    "    std::remove_if(matched.begin(), matched.end(), [](std::pair<int, int>& e){return e.second == -1;}),\n",
    "    matched.end()\n",
    ");\n",
    "matched"
   ]
  },
  {
   "cell_type": "code",
   "execution_count": 5,
   "id": "comparative-blake",
   "metadata": {},
   "outputs": [
    {
     "data": {
      "text/plain": [
       "{ 1, 4, 13 }"
      ]
     },
     "execution_count": 5,
     "metadata": {},
     "output_type": "execute_result"
    }
   ],
   "source": [
    "std::vector<int> matches;\n",
    "std::transform(matched.begin(), matched.end(), std::back_inserter(matches),\n",
    "    [](std::pair<int, int> e) {return e.first;}\n",
    ");\n",
    "matches"
   ]
  },
  {
   "cell_type": "code",
   "execution_count": null,
   "id": "mathematical-shift",
   "metadata": {},
   "outputs": [],
   "source": []
  }
 ],
 "metadata": {
  "kernelspec": {
   "display_name": "C++14",
   "language": "C++14",
   "name": "xcpp14"
  },
  "language_info": {
   "codemirror_mode": "text/x-c++src",
   "file_extension": ".cpp",
   "mimetype": "text/x-c++src",
   "name": "c++",
   "version": "14"
  }
 },
 "nbformat": 4,
 "nbformat_minor": 5
}
